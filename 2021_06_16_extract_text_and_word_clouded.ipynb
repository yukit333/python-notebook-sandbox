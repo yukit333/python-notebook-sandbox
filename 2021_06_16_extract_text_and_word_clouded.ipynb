{
  "nbformat": 4,
  "nbformat_minor": 0,
  "metadata": {
    "colab": {
      "name": "2021-06-16_extract-text-and-word-clouded",
      "provenance": [],
      "collapsed_sections": [],
      "authorship_tag": "ABX9TyNJJedfyVSSPTnaWq7vEIoJ"
    },
    "kernelspec": {
      "name": "python3",
      "display_name": "Python 3"
    },
    "language_info": {
      "name": "python"
    }
  },
  "cells": [
    {
      "cell_type": "code",
      "metadata": {
        "id": "3QWfYg6Giozu"
      },
      "source": [
        "# MeCabとneologdのインストール\n",
        "!apt-get -q -y install sudo file mecab libmecab-dev mecab-ipadic-utf8 git curl python-mecab > /dev/null\n",
        "!git clone --depth 1 https://github.com/neologd/mecab-ipadic-neologd.git > /dev/null \n",
        "!echo yes | mecab-ipadic-neologd/bin/install-mecab-ipadic-neologd -n > /dev/null 2>&1\n",
        "!pip install mecab-python3 > /dev/null\n",
        "!ln -s /etc/mecabrc /usr/local/etc/mecabrc\n",
        "!echo `mecab-config --dicdir`\"/mecab-ipadic-neologd\"\n",
        "\n",
        "# wordcloudで使う日本語フォントのインストール\n",
        "!apt-get -y install fonts-ipafont-gothic"
      ],
      "execution_count": null,
      "outputs": []
    },
    {
      "cell_type": "code",
      "metadata": {
        "id": "-EkMr2injVfb"
      },
      "source": [
        "import re\n",
        "import MeCab\n",
        "from wordcloud import WordCloud\n",
        "import matplotlib.pyplot as plt \n",
        "\n",
        "tagger = MeCab.Tagger(\"-d /usr/lib/x86_64-linux-gnu/mecab/dic/mecab-ipadic-neologd\")"
      ],
      "execution_count": null,
      "outputs": []
    },
    {
      "cell_type": "code",
      "metadata": {
        "id": "NaH-Hx2QmRCj"
      },
      "source": [
        "txt_file = 'sample.txt'"
      ],
      "execution_count": null,
      "outputs": []
    },
    {
      "cell_type": "code",
      "metadata": {
        "id": "emIe-oZAjd3R"
      },
      "source": [
        "def sanitize_text(text):\n",
        "    text = re.sub('［.+?］', '', text)\n",
        "    text = re.sub('《.+?》', '', text)\n",
        "    text = re.sub('｜', '', text)\n",
        "    text = re.sub('\\s', '', text)\n",
        "    return text\n",
        "\n",
        "def get_nouns(text):\n",
        "    node = tagger.parseToNode(text)\n",
        "    nouns = []\n",
        "    while node:\n",
        "        if 36 <= node.posid <=67: # 名詞のみ取得\n",
        "            nouns.append(node.surface)\n",
        "        node = node.next\n",
        "    return nouns\n",
        "  \n",
        "with open(txt_file, encoding='utf-8') as f:\n",
        "    text = f.read()\n",
        "text = sanitize_text(text)\n",
        "nouns = get_nouns(text)\n",
        "text=\" \".join(nouns)\n",
        "\n",
        "# WordCloudで表示\n",
        "wordcloud = WordCloud(font_path='/usr/share/fonts/truetype/fonts-japanese-gothic.ttf',\n",
        "                      width=900,\n",
        "                      height=600,\n",
        "                      background_color='white',\n",
        "                      max_words=300,\n",
        "                      min_font_size=10,\n",
        "                      collocations = True).generate(text)\n",
        "plt.figure(figsize=(15,12))\n",
        "plt.axis('off')\n",
        "plt.imshow(wordcloud)\n",
        "plt.savefig('word_cloud.png')\n",
        "plt.show()"
      ],
      "execution_count": null,
      "outputs": []
    }
  ]
}