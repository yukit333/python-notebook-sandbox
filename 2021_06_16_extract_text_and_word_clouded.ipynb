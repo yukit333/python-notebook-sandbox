{
  "nbformat": 4,
  "nbformat_minor": 0,
  "metadata": {
    "colab": {
      "name": "2021-06-16_extract-text-and-word-clouded",
      "provenance": [],
      "collapsed_sections": [],
      "authorship_tag": "ABX9TyNJJedfyVSSPTnaWq7vEIoJ"
    },
    "kernelspec": {
      "name": "python3",
      "display_name": "Python 3"
    },
    "language_info": {
      "name": "python"
    }
  },
  "cells": [
    {
      "cell_type": "code",
      "metadata": {
        "colab": {
          "base_uri": "https://localhost:8080/"
        },
        "id": "3QWfYg6Giozu",
        "outputId": "87b9290b-f938-4b1b-c80a-404a568ad6a1"
      },
      "source": [
        "# MeCabとneologdのインストール\n",
        "!apt-get -q -y install sudo file mecab libmecab-dev mecab-ipadic-utf8 git curl python-mecab > /dev/null\n",
        "!git clone --depth 1 https://github.com/neologd/mecab-ipadic-neologd.git > /dev/null \n",
        "!echo yes | mecab-ipadic-neologd/bin/install-mecab-ipadic-neologd -n > /dev/null 2>&1\n",
        "!pip install mecab-python3 > /dev/null\n",
        "!ln -s /etc/mecabrc /usr/local/etc/mecabrc\n",
        "!echo `mecab-config --dicdir`\"/mecab-ipadic-neologd\"\n",
        "\n",
        "# wordcloudで使う日本語フォントのインストール\n",
        "!apt-get -y install fonts-ipafont-gothic"
      ],
      "execution_count": 1,
      "outputs": [
        {
          "output_type": "stream",
          "text": [
            "Cloning into 'mecab-ipadic-neologd'...\n",
            "remote: Enumerating objects: 75, done.\u001b[K\n",
            "remote: Counting objects: 100% (75/75), done.\u001b[K\n",
            "remote: Compressing objects: 100% (74/74), done.\u001b[K\n",
            "remote: Total 75 (delta 5), reused 54 (delta 0), pack-reused 0\u001b[K\n",
            "Unpacking objects: 100% (75/75), done.\n",
            "/usr/lib/x86_64-linux-gnu/mecab/dic/mecab-ipadic-neologd\n",
            "Reading package lists... Done\n",
            "Building dependency tree       \n",
            "Reading state information... Done\n",
            "The following additional packages will be installed:\n",
            "  fonts-ipafont-mincho\n",
            "The following NEW packages will be installed:\n",
            "  fonts-ipafont-gothic fonts-ipafont-mincho\n",
            "0 upgraded, 2 newly installed, 0 to remove and 39 not upgraded.\n",
            "Need to get 8,251 kB of archives.\n",
            "After this operation, 28.7 MB of additional disk space will be used.\n",
            "Get:1 http://archive.ubuntu.com/ubuntu bionic/universe amd64 fonts-ipafont-gothic all 00303-18ubuntu1 [3,526 kB]\n",
            "Get:2 http://archive.ubuntu.com/ubuntu bionic/universe amd64 fonts-ipafont-mincho all 00303-18ubuntu1 [4,725 kB]\n",
            "Fetched 8,251 kB in 3s (2,862 kB/s)\n",
            "Selecting previously unselected package fonts-ipafont-gothic.\n",
            "(Reading database ... 160990 files and directories currently installed.)\n",
            "Preparing to unpack .../fonts-ipafont-gothic_00303-18ubuntu1_all.deb ...\n",
            "Unpacking fonts-ipafont-gothic (00303-18ubuntu1) ...\n",
            "Selecting previously unselected package fonts-ipafont-mincho.\n",
            "Preparing to unpack .../fonts-ipafont-mincho_00303-18ubuntu1_all.deb ...\n",
            "Unpacking fonts-ipafont-mincho (00303-18ubuntu1) ...\n",
            "Setting up fonts-ipafont-gothic (00303-18ubuntu1) ...\n",
            "update-alternatives: using /usr/share/fonts/opentype/ipafont-gothic/ipag.ttf to provide /usr/share/fonts/truetype/fonts-japanese-gothic.ttf (fonts-japanese-gothic.ttf) in auto mode\n",
            "Setting up fonts-ipafont-mincho (00303-18ubuntu1) ...\n",
            "update-alternatives: using /usr/share/fonts/opentype/ipafont-mincho/ipam.ttf to provide /usr/share/fonts/truetype/fonts-japanese-mincho.ttf (fonts-japanese-mincho.ttf) in auto mode\n",
            "Processing triggers for fontconfig (2.12.6-0ubuntu2) ...\n"
          ],
          "name": "stdout"
        }
      ]
    },
    {
      "cell_type": "code",
      "metadata": {
        "id": "-EkMr2injVfb"
      },
      "source": [
        "import re\n",
        "import MeCab\n",
        "from wordcloud import WordCloud\n",
        "import matplotlib.pyplot as plt \n",
        "\n",
        "tagger = MeCab.Tagger(\"-d /usr/lib/x86_64-linux-gnu/mecab/dic/mecab-ipadic-neologd\")"
      ],
      "execution_count": 16,
      "outputs": []
    },
    {
      "cell_type": "code",
      "metadata": {
        "id": "NaH-Hx2QmRCj"
      },
      "source": [
        "txt_file = 'sample.txt'"
      ],
      "execution_count": 28,
      "outputs": []
    },
    {
      "cell_type": "code",
      "metadata": {
        "id": "emIe-oZAjd3R"
      },
      "source": [
        "def sanitize_text(text):\n",
        "    text = re.sub('［.+?］', '', text)\n",
        "    text = re.sub('《.+?》', '', text)\n",
        "    text = re.sub('｜', '', text)\n",
        "    text = re.sub('\\s', '', text)\n",
        "    return text\n",
        "\n",
        "def get_nouns(text):\n",
        "    node = tagger.parseToNode(text)\n",
        "    nouns = []\n",
        "    while node:\n",
        "        if 36 <= node.posid <=67: # 名詞のみ取得\n",
        "            nouns.append(node.surface)\n",
        "        node = node.next\n",
        "    return nouns\n",
        "  \n",
        "with open(txt_file, encoding='utf-8') as f:\n",
        "    text = f.read()\n",
        "text = sanitize_text(text)\n",
        "nouns = get_nouns(text)\n",
        "text=\" \".join(nouns)\n",
        "\n",
        "# WordCloudで表示\n",
        "wordcloud = WordCloud(font_path='/usr/share/fonts/truetype/fonts-japanese-gothic.ttf',\n",
        "                      width=900,\n",
        "                      height=600,\n",
        "                      background_color='white',\n",
        "                      max_words=300,\n",
        "                      min_font_size=10,\n",
        "                      collocations = True).generate(text)\n",
        "plt.figure(figsize=(15,12))\n",
        "plt.axis('off')\n",
        "plt.imshow(wordcloud)\n",
        "plt.savefig('word_cloud.png')\n",
        "plt.show()"
      ],
      "execution_count": null,
      "outputs": []
    }
  ]
}